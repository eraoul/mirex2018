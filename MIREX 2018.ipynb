{
 "cells": [
  {
   "cell_type": "code",
   "execution_count": 85,
   "metadata": {},
   "outputs": [],
   "source": [
    "from collections import namedtuple\n",
    "from enum import Enum\n",
    "import json\n",
    "import os\n",
    "\n",
    "import keras\n",
    "from keras.utils import to_categorical\n",
    "import matplotlib.pyplot as plt\n",
    "import music21\n",
    "import numpy as np\n",
    "import pandas as pd"
   ]
  },
  {
   "cell_type": "raw",
   "metadata": {},
   "source": [
    "Descriptor JSON format:\n",
    "\n",
    "`{\n",
    "  \"id\": \"001f5992-527d-4e04-8869-afa7cbb74cd0\",\n",
    "  \"idLakh\": \"d2650bcf0a38340a099d9d8c6a5bb758\",\n",
    "  \"bpm\": 80,\n",
    "  \"timeSignature\": [\n",
    "    3,\n",
    "    4\n",
    "  ],\n",
    "  \"keyEstimate\": \"Eb major\"\n",
    "}`"
   ]
  },
  {
   "cell_type": "markdown",
   "metadata": {},
   "source": [
    "# Utilities"
   ]
  },
  {
   "cell_type": "markdown",
   "metadata": {},
   "source": [
    "## Constants"
   ]
  },
  {
   "cell_type": "code",
   "execution_count": 90,
   "metadata": {},
   "outputs": [],
   "source": [
    "SIG_DIGITS = 4\n",
    "QUANTIZATION = 12  # smallest unit is 1/12 of a beat\n",
    "MAX_EVENT_BEATS = 4\n",
    "\n",
    "MIDI_MIN = 21\n",
    "MIDI_MAX = 108\n",
    "\n",
    "MAX_EVENT_SUBBEATS = QUANTIZATION * MAX_EVENT_BEATS\n",
    "\n",
    "MIDI_LEN = MIDI_MAX - MIDI_MIN + 1  # 88 keys\n",
    "\n",
    "# One-hot vector lengths\n",
    "NUM_COMMAND_CLASSES = 3\n",
    "NUM_MIDI_CLASSES = MIDI_LEN + 1                # + 1 for \"0\" case\n",
    "NUM_DURATION_CLASSES = MAX_EVENT_SUBBEATS + 1  # + 1 for \"0\" case"
   ]
  },
  {
   "cell_type": "markdown",
   "metadata": {},
   "source": [
    "## Key"
   ]
  },
  {
   "cell_type": "code",
   "execution_count": 4,
   "metadata": {},
   "outputs": [],
   "source": [
    "class KeyQuality(Enum):\n",
    "    Major = 0,\n",
    "    Minor = 1"
   ]
  },
  {
   "cell_type": "code",
   "execution_count": 5,
   "metadata": {},
   "outputs": [],
   "source": [
    "STR_TO_PITCH_CLASS = {\n",
    "    'C': 0,\n",
    "    'B#': 0,\n",
    "    'C#': 1,\n",
    "    'DB': 1,\n",
    "    'D': 2,\n",
    "    'D#': 3,\n",
    "    'EB': 3,\n",
    "    'E': 4,\n",
    "    'FB': 4,\n",
    "    'F': 5,\n",
    "    'F#': 6,\n",
    "    'GB': 6,\n",
    "    'G': 7,\n",
    "    'G#': 8,\n",
    "    'AB': 8,\n",
    "    'A': 9,\n",
    "    'A#': 10,\n",
    "    'BB': 10,\n",
    "    'B': 11,\n",
    "    'CB': 11\n",
    "}\n",
    "\n",
    "STR_TO_MODE = {\n",
    "    'MAJOR': KeyQuality.Major,\n",
    "    'MINOR': KeyQuality.Minor\n",
    "}"
   ]
  },
  {
   "cell_type": "code",
   "execution_count": 6,
   "metadata": {},
   "outputs": [],
   "source": [
    "def parse_key_string(str_key):\n",
    "    \"\"\"Returns a tuple of root pitch class (int, 0=C to 11=B) and KeyQuality.\"\"\"\n",
    "    tokens = str_key.strip().upper().split(' ')\n",
    "    if len(tokens) != 2:\n",
    "        raise Exception(\"Can't parse key: %s\" % str_key)\n",
    "    pitch_str, mode_str = tokens\n",
    "    pc = STR_TO_PITCH_CLASS[pitch_str]\n",
    "    mode = STR_TO_MODE[mode_str]\n",
    "    return pc, mode    "
   ]
  },
  {
   "cell_type": "code",
   "execution_count": null,
   "metadata": {},
   "outputs": [],
   "source": []
  },
  {
   "cell_type": "markdown",
   "metadata": {},
   "source": [
    "## Time"
   ]
  },
  {
   "cell_type": "code",
   "execution_count": 34,
   "metadata": {},
   "outputs": [],
   "source": [
    "def get_timeshift_set(score):\n",
    "    s = set()\n",
    "    for _, event_type, _, time_delta in score:\n",
    "        if event_type == ScoreEventType.TimeShift:\n",
    "            s.add(time_delta)\n",
    "    return s"
   ]
  },
  {
   "cell_type": "raw",
   "metadata": {},
   "source": [
    "# set(round(x % 1, SIG_DIGITS)  for x in all_durations)\n",
    " \n",
    " All times % 1:\n",
    "{0.0,                    0\n",
    " 0.0001,                 \n",
    " 0.0833,                 1/12       \n",
    " 0.0834,                 \n",
    " 0.1666,                 1/6   2/12\n",
    " 0.1667,\n",
    " 0.25,                   1/4   3/12\n",
    " 0.3333,                 1/3   4/12\n",
    " 0.3334,\n",
    " 0.4166,                 5/12\n",
    " 0.4167,\n",
    " 0.4999,                 1/2   6/12\n",
    " 0.5,\n",
    " 0.5001,\n",
    " 0.5833,                 7/12\n",
    " 0.5834,\n",
    " 0.6666,                 2/3   8/12\n",
    " 0.6667,\n",
    " 0.75,                   3/4   9/12\n",
    " 0.8333,                 5/6   10/12\n",
    " 0.8334,\n",
    " 0.9166,                 11/12\n",
    " 0.9167,\n",
    " 0.9999}                 1"
   ]
  },
  {
   "cell_type": "markdown",
   "metadata": {},
   "source": [
    "Dataset is quantized to 1/12 of a quarter note (48th notes)"
   ]
  },
  {
   "cell_type": "code",
   "execution_count": 195,
   "metadata": {},
   "outputs": [],
   "source": [
    "class Duration():\n",
    "    def __init__(self, beats, subbeats, quantization=QUANTIZATION):\n",
    "        self.beats = beats\n",
    "        self.subbeats = subbeats\n",
    "        self.quantization = quantization\n",
    "    \n",
    "    def total_subbeats(self):\n",
    "        return self.beats * self.quantization + self.subbeats\n",
    "    \n",
    "    def subtract_subbeats(self, subbeats):\n",
    "        \"\"\"Modify the duration by subtracting the given # of subbeats.\"\"\"\n",
    "        # Find the total # of full beats to subtract.\n",
    "        beats_to_subtract = subbeats // QUANTIZATION    # int part\n",
    "        subbeats_to_subtract = subbeats % QUANTIZATION  # fractional part\n",
    "        \n",
    "        self.beats -= beats_to_subtract\n",
    "        self.subbeats -= subbeats_to_subtract         # might be negative now\n",
    "        \n",
    "        # Borrow 1 from beats, just like in by-hand subtraction\n",
    "        if self.subbeats < 0:\n",
    "            self.subbeats += QUANTIZATION\n",
    "            self.beats -= 1\n",
    "        \n",
    "    @staticmethod\n",
    "    def MakeDuration(float_duration, quantization=QUANTIZATION):\n",
    "        beats = int(float_duration)\n",
    "        subbeats = round((float_duration % 1) * quantization)\n",
    "        return Duration(beats, subbeats, quantization)\n",
    "    \n",
    "    def __repr__(self):\n",
    "        return 'Duration(%d,%d,%d)' % (self.beats, self.subbeats, self.quantization)"
   ]
  },
  {
   "cell_type": "markdown",
   "metadata": {},
   "source": [
    "## Score Types"
   ]
  },
  {
   "cell_type": "code",
   "execution_count": 17,
   "metadata": {},
   "outputs": [],
   "source": [
    "class ScoreEventType(Enum):\n",
    "    Undefined = -1\n",
    "    NoteOff = 0\n",
    "    NoteOn = 1\n",
    "    TimeShift = 2\n",
    "    \n",
    "# In neural net, representation will be: [COMMAND, OPT_MIDI, OPT_TIME_DELTA]\n",
    "# That is, 3 separate one-hot-encoding blocks, with N/A value possible for MIDI.\n",
    "# ex:\n",
    "# [NoteOn, MIDI, 0], [NoteOff, MIDI, 0], [TimeShift, N/A, time_delta]\n",
    "\n",
    "# MIDI is an int, 0 for N/A or 1-88 representing piano keys 21 to 108\n",
    "# time_delta will be quantized 1/12 of quarter notes. Duration can be from 0-48 12/th notes.\n",
    "#    Longer durations will be represented with multiple successive time_shift commands.\n",
    "    \n",
    "# time is a float, mostly for output use; not fed into neural net.\n",
    "# time_delta is a quantized Duration object.\n",
    "ScoreEvent = namedtuple('ScoreEvent', ['time', 'type', 'midi', 'time_delta'])"
   ]
  },
  {
   "cell_type": "code",
   "execution_count": 244,
   "metadata": {},
   "outputs": [],
   "source": [
    "def convert_df_to_score(df): # Monophonic\n",
    "    \"\"\"The df is an input csv with time, midi, and duration.\n",
    "    Output is a list of ScoreEvents.\"\"\"\n",
    "    \n",
    "    # Fix durations that are too long and overlap later notes. This is supposed to be\n",
    "    # monophonic data, but it isn't always.\n",
    "    for i, row in df.iterrows():\n",
    "        if i >= len(df) - 1: # skip last row\n",
    "            break\n",
    "        time =  row['time']\n",
    "        next_time = df.loc[i+1, 'time']\n",
    "        if time + row['duration'] > next_time:\n",
    "            df.loc[i, 'duration']= next_time - time\n",
    "        \n",
    "    events = []\n",
    "    prev_time = None\n",
    "    for _, row in df.iterrows():\n",
    "        time = round(row['time'], SIG_DIGITS)\n",
    "        midi = int(row['midi'])\n",
    "        duration = round(row['duration'], SIG_DIGITS)\n",
    "        \n",
    "        if prev_time is None:\n",
    "            prev_time = time\n",
    "        \n",
    "        delta_time = round(time - prev_time, SIG_DIGITS)\n",
    "        \n",
    "        # Quantize time to beats and subbeats.\n",
    "        time_quantized = Duration.MakeDuration(time)\n",
    "        duration_quantized = Duration.MakeDuration(duration)\n",
    "        delta_time_quantized = Duration.MakeDuration(delta_time)\n",
    "        \n",
    "        # Create events.\n",
    "        #if delta_time_quantized.total_subbeats() > 0:\n",
    "        # TimeShift.\n",
    "        events.append(ScoreEvent(prev_time, ScoreEventType.TimeShift, None, delta_time_quantized))\n",
    "        \n",
    "        # NoteOn\n",
    "        events.append(ScoreEvent(time, ScoreEventType.NoteOn, midi, None))\n",
    "        \n",
    "        # TimeShift for duration of note\n",
    "        # DOESN'T WORK if duration is too long for next note. NEEDS PREPROCESSING TO FIX DURs.\n",
    "        events.append(ScoreEvent(time, ScoreEventType.TimeShift, None, duration_quantized))\n",
    "        time += duration\n",
    "        \n",
    "        # NoteOff\n",
    "        events.append(ScoreEvent(time, ScoreEventType.NoteOff, midi, None))\n",
    "        \n",
    "        prev_time = time\n",
    "    \n",
    "    return events            "
   ]
  },
  {
   "cell_type": "code",
   "execution_count": 181,
   "metadata": {},
   "outputs": [],
   "source": [
    "def score_event_to_nnet_input_list(ev):\n",
    "    # Output is a list of numpy arrays: 3 one-hot encodings, concatenated.\n",
    "    # List will usually be 1-element long, but must be multiple for long durations.\n",
    "    # numpy array has 3 one-hot sections (command, midi, duration)\n",
    "    # All 3 are concatenated together into ndarray: [command...midi...duration]\n",
    "    \n",
    "    _, event_type, midi, time_delta = ev\n",
    "    result = []\n",
    "    \n",
    "    command_vec = to_categorical(event_type.value, num_classes=NUM_COMMAND_CLASSES)\n",
    "    \n",
    "    if not midi:\n",
    "        midi = 0\n",
    "    else:\n",
    "        midi = midi - MIDI_MIN + 1\n",
    "    \n",
    "    midi_vec = to_categorical(midi, num_classes=NUM_MIDI_CLASSES)  # +1 for the 0 case\n",
    "    \n",
    "    if not time_delta:\n",
    "        time_delta = Duration(0, 0)\n",
    "    \n",
    "    # Handle long duration events: repeat them.\n",
    "    if time_delta.total_subbeats() > MAX_EVENT_SUBBEATS:\n",
    "        duration_vec = to_categorical(MAX_EVENT_SUBBEATS, num_classes=NUM_DURATION_CLASSES)\n",
    "        vector = command_vec\n",
    "        result.append(np.concatenate((command_vec, midi_vec, duration_vec)))\n",
    "        time_delta.subtract_subbeats(MAX_EVENT_SUBBEATS)\n",
    "    \n",
    "    # Regular duration event.\n",
    "    duration_vec = to_categorical(time_delta.total_subbeats(), num_classes=NUM_DURATION_CLASSES)\n",
    "    result.append(np.concatenate((command_vec, midi_vec, duration_vec)))\n",
    "    \n",
    "    return result"
   ]
  },
  {
   "cell_type": "code",
   "execution_count": 182,
   "metadata": {},
   "outputs": [],
   "source": [
    "def score_to_array(score):\n",
    "    arrays_list = []\n",
    "    for ev in score:\n",
    "        arrays_list.append(np.array(score_event_to_nnet_input_list(ev)))\n",
    "    return np.vstack(arrays_list)"
   ]
  },
  {
   "cell_type": "code",
   "execution_count": 183,
   "metadata": {},
   "outputs": [],
   "source": [
    "def plot_matrix(x):\n",
    "    plt.figure(figsize=(20,10))\n",
    "    plt.imshow(x, origin='lower')\n",
    "    plt.show()\n",
    "\n",
    "def plot_score(score):\n",
    "    plot_matrix(score_to_array(score).T)"
   ]
  },
  {
   "cell_type": "markdown",
   "metadata": {},
   "source": [
    "## MIDI"
   ]
  },
  {
   "cell_type": "code",
   "execution_count": 76,
   "metadata": {},
   "outputs": [],
   "source": [
    "def get_midi_set(score):\n",
    "    s = set()\n",
    "    for _, event_type, midi, _ in score:\n",
    "        if event_type == ScoreEventType.NoteOn:\n",
    "            s.add(midi)\n",
    "    return s"
   ]
  },
  {
   "cell_type": "markdown",
   "metadata": {},
   "source": [
    "Analysis results -- MIDI in use: notes 21 through 108 (regular piano range)"
   ]
  },
  {
   "cell_type": "markdown",
   "metadata": {},
   "source": [
    "## File parsing"
   ]
  },
  {
   "cell_type": "code",
   "execution_count": 250,
   "metadata": {},
   "outputs": [],
   "source": [
    "size = 'medium'   # 'small', medium', 'large'\n",
    "DATA_PATH = 'data/PPDD-Jul2018_sym_mono_%s/PPDD-Jul2018_sym_mono_%s' % (size, size)"
   ]
  },
  {
   "cell_type": "code",
   "execution_count": 251,
   "metadata": {},
   "outputs": [],
   "source": [
    "DESCRIPTOR_PATH = os.path.join(DATA_PATH, 'descriptor')       # .json files\n",
    "PRIME_CSV_PATH = os.path.join(DATA_PATH, 'prime_csv')         # .csv\n",
    "CONT_FOIL_CSV_PATH = os.path.join(DATA_PATH, 'cont_foil_csv') # .csv\n",
    "CONT_TRUE_CSV_PATH = os.path.join(DATA_PATH, 'cont_true_csv') # .csv"
   ]
  },
  {
   "cell_type": "code",
   "execution_count": 252,
   "metadata": {},
   "outputs": [],
   "source": [
    "def get_file_list(path, ext):\n",
    "    \"\"\"Returns a list of all files in the given path with the given string ending 'ext'.\"\"\"\n",
    "    return [f for f in os.listdir(path) if \n",
    "            os.path.isfile(os.path.join(path, f)) and f.endswith(ext)]"
   ]
  },
  {
   "cell_type": "code",
   "execution_count": 253,
   "metadata": {},
   "outputs": [],
   "source": [
    "descriptor_files = get_file_list(DESCRIPTOR_PATH, 'json')"
   ]
  },
  {
   "cell_type": "code",
   "execution_count": 254,
   "metadata": {},
   "outputs": [
    {
     "data": {
      "text/plain": [
       "['05b6137d-1d26-4b22-8640-b9bc4d2c0e22.json',\n",
       " '5a1d57fb-82a0-4a8a-982a-fd5b7cb9a4be.json',\n",
       " '6d70f32c-4d1e-452b-a54f-859f708684c7.json',\n",
       " 'c279e49d-a0a9-4179-99a0-50bad8809da4.json',\n",
       " '99f90f0e-9040-4a9a-bc40-5017e00e919b.json',\n",
       " '90f07cc1-8a07-4fdd-b1f9-2e9d0d854f49.json',\n",
       " '1a595271-8a93-4d75-ac68-035d93a8b0f9.json',\n",
       " '0f9fe2e3-caec-423e-8c2a-aaf20ab23b5f.json',\n",
       " '20aa14b9-1f5f-4ffc-90df-1e773fa2c95f.json',\n",
       " '7c9153a3-8417-4c64-a438-27f129d5bcd0.json']"
      ]
     },
     "execution_count": 254,
     "metadata": {},
     "output_type": "execute_result"
    }
   ],
   "source": [
    "descriptor_files[:10]"
   ]
  },
  {
   "cell_type": "markdown",
   "metadata": {},
   "source": [
    "# Read Dataset"
   ]
  },
  {
   "cell_type": "code",
   "execution_count": 255,
   "metadata": {
    "scrolled": false
   },
   "outputs": [
    {
     "name": "stdout",
     "output_type": "stream",
     "text": [
      "0\n",
      "Done!\n"
     ]
    }
   ],
   "source": [
    "# all_durations = set()\n",
    "#all_midi = set()\n",
    "\n",
    "all_scores = []\n",
    "\n",
    "for i, json_file in enumerate(descriptor_files):\n",
    "    if i % 1000 == 0:\n",
    "        print(i)\n",
    "    guid = os.path.splitext(json_file)[0]\n",
    "    #print('Processing file %d: %s' % (i, guid))\n",
    "    prime_csv_file = os.path.join(PRIME_CSV_PATH, guid) + '.csv'\n",
    "    \n",
    "    df_prime = pd.read_csv(prime_csv_file, header=None, \n",
    "                           names=['time', 'midi', 'mpn', 'duration', 'channel'])\n",
    "    score = convert_df_to_score(df_prime)\n",
    "    all_scores.append(score)\n",
    "             \n",
    "    # Used this code to analyze dataset.\n",
    "    # Result: quantization is to the 1/12 of a beat.\n",
    "    #all_durations.update(get_timeshift_set(score))\n",
    "    \n",
    "    # Result: MIDI notes from 21-108 in use\n",
    "    #all_midi.update(get_midi_set(score))\n",
    "\n",
    "    with open(os.path.join(DESCRIPTOR_PATH, descriptor_files[i])) as f:\n",
    "        j = json.load(f)\n",
    "        id_lakh = j['idLakh']\n",
    "        bpm = j['bpm']\n",
    "        time_sig_numerator, time_sig_denominator = j.get('timeSignature', [4, 4])\n",
    "        key_estimate = j['keyEstimate']\n",
    "        \n",
    "        #print (guid, id_lakh, bpm, time_sig_numerator, time_sig_denominator, key_estimate)\n",
    "print('Done!')"
   ]
  },
  {
   "cell_type": "code",
   "execution_count": 256,
   "metadata": {
    "scrolled": false
   },
   "outputs": [],
   "source": [
    "data = [score_to_array(s) for s in all_scores]"
   ]
  },
  {
   "cell_type": "code",
   "execution_count": 257,
   "metadata": {},
   "outputs": [
    {
     "data": {
      "image/png": "[encoded data removed]",
      "text/plain": [
       "<Figure size 1440x720 with 1 Axes>"
      ]
     },
     "metadata": {
      "image/png": {
       "height": 576,
       "width": 998
      }
     },
     "output_type": "display_data"
    }
   ],
   "source": [
    "plot_matrix(data[65].T)"
   ]
  },
  {
   "cell_type": "code",
   "execution_count": 259,
   "metadata": {},
   "outputs": [
    {
     "data": {
      "text/plain": [
       "1000"
      ]
     },
     "execution_count": 259,
     "metadata": {},
     "output_type": "execute_result"
    }
   ],
   "source": [
    "len(data)"
   ]
  },
  {
   "cell_type": "code",
   "execution_count": null,
   "metadata": {},
   "outputs": [],
   "source": []
  }
 ],
 "metadata": {
  "kernelspec": {
   "display_name": "Python 3",
   "language": "python",
   "name": "python3"
  },
  "language_info": {
   "codemirror_mode": {
    "name": "ipython",
    "version": 3
   },
   "file_extension": ".py",
   "mimetype": "text/x-python",
   "name": "python",
   "nbconvert_exporter": "python",
   "pygments_lexer": "ipython3",
   "version": "3.6.6"
  }
 },
 "nbformat": 4,
 "nbformat_minor": 2
}
