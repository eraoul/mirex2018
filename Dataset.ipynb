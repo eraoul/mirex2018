{
 "cells": [
  {
   "cell_type": "code",
   "execution_count": 1,
   "metadata": {},
   "outputs": [
    {
     "name": "stderr",
     "output_type": "stream",
     "text": [
      "Using TensorFlow backend.\n"
     ]
    }
   ],
   "source": [
    "from collections import namedtuple\n",
    "import copy\n",
    "from enum import Enum\n",
    "import json\n",
    "import os\n",
    "\n",
    "import keras\n",
    "from keras.utils import to_categorical\n",
    "import matplotlib.pyplot as plt\n",
    "import music21\n",
    "import numpy as np\n",
    "import pandas as pd\n",
    "from sklearn.externals import joblib\n",
    "from sklearn.model_selection import  train_test_split"
   ]
  },
  {
   "cell_type": "raw",
   "metadata": {},
   "source": [
    "Descriptor JSON format:\n",
    "\n",
    "`{\n",
    "  \"id\": \"001f5992-527d-4e04-8869-afa7cbb74cd0\",\n",
    "  \"idLakh\": \"d2650bcf0a38340a099d9d8c6a5bb758\",\n",
    "  \"bpm\": 80,\n",
    "  \"timeSignature\": [\n",
    "    3,\n",
    "    4\n",
    "  ],\n",
    "  \"keyEstimate\": \"Eb major\"\n",
    "}`"
   ]
  },
  {
   "cell_type": "markdown",
   "metadata": {},
   "source": [
    "# Utilities"
   ]
  },
  {
   "cell_type": "markdown",
   "metadata": {},
   "source": [
    "## Constants"
   ]
  },
  {
   "cell_type": "code",
   "execution_count": 2,
   "metadata": {},
   "outputs": [],
   "source": [
    "SIG_DIGITS = 4\n",
    "QUANTIZATION = 12  # smallest unit is 1/12 of a beat\n",
    "MAX_EVENT_BEATS = 4\n",
    "\n",
    "MIDI_MIN = 21\n",
    "MIDI_MAX = 108\n",
    "\n",
    "MAX_EVENT_SUBBEATS = QUANTIZATION * MAX_EVENT_BEATS\n",
    "\n",
    "MIDI_LEN = MIDI_MAX - MIDI_MIN + 1  # 88 keys\n",
    "\n",
    "# One-hot vector lengths\n",
    "NUM_COMMAND_CLASSES = 3\n",
    "NUM_MIDI_CLASSES = MIDI_LEN + 1                # + 1 for \"0\" case\n",
    "NUM_DURATION_CLASSES = MAX_EVENT_SUBBEATS + 1  # + 1 for \"0\" case\n",
    "\n",
    "# Start of range is inclusive, end of range is exclusive. \n",
    "COMMAND_VEC_RANGE = (0, NUM_COMMAND_CLASSES)\n",
    "MIDI_VEC_RANGE = (COMMAND_VEC_RANGE[1], COMMAND_VEC_RANGE[1] + NUM_MIDI_CLASSES)\n",
    "DURATION_VEC_RANGE = (MIDI_VEC_RANGE[1], MIDI_VEC_RANGE[1] + NUM_DURATION_CLASSES)\n",
    "VEC_LENGTH = DURATION_VEC_RANGE[1]\n",
    "COMMAND_VEC_RANGE, MIDI_VEC_RANGE, DURATION_VEC_RANGE, VEC_LENGTH\n",
    "\n",
    "INPUT_NOTES = 30\n",
    "OUTPUT_NOTES = 10\n",
    "SLIDING_WINDOW_NOTES = 5\n",
    "\n",
    "INPUT_TIMESTEPS = 4 * INPUT_NOTES\n",
    "OUTPUT_TIMESTEPS = 4 * OUTPUT_NOTES\n",
    "SLIDING_WINDOW_TIMESTEPS = 4 * SLIDING_WINDOW_NOTES"
   ]
  },
  {
   "cell_type": "markdown",
   "metadata": {},
   "source": [
    "## Key"
   ]
  },
  {
   "cell_type": "code",
   "execution_count": 3,
   "metadata": {},
   "outputs": [],
   "source": [
    "class KeyQuality(Enum):\n",
    "    Major = 0,\n",
    "    Minor = 1"
   ]
  },
  {
   "cell_type": "code",
   "execution_count": 4,
   "metadata": {},
   "outputs": [],
   "source": [
    "STR_TO_PITCH_CLASS = {\n",
    "    'C': 0,\n",
    "    'B#': 0,\n",
    "    'C#': 1,\n",
    "    'DB': 1,\n",
    "    'D': 2,\n",
    "    'D#': 3,\n",
    "    'EB': 3,\n",
    "    'E': 4,\n",
    "    'FB': 4,\n",
    "    'F': 5,\n",
    "    'F#': 6,\n",
    "    'GB': 6,\n",
    "    'G': 7,\n",
    "    'G#': 8,\n",
    "    'AB': 8,\n",
    "    'A': 9,\n",
    "    'A#': 10,\n",
    "    'BB': 10,\n",
    "    'B': 11,\n",
    "    'CB': 11\n",
    "}\n",
    "\n",
    "STR_TO_MODE = {\n",
    "    'MAJOR': KeyQuality.Major,\n",
    "    'MINOR': KeyQuality.Minor\n",
    "}"
   ]
  },
  {
   "cell_type": "code",
   "execution_count": 5,
   "metadata": {},
   "outputs": [],
   "source": [
    "def parse_key_string(str_key):\n",
    "    \"\"\"Returns a tuple of root pitch class (int, 0=C to 11=B) and KeyQuality.\"\"\"\n",
    "    tokens = str_key.strip().upper().split(' ')\n",
    "    if len(tokens) != 2:\n",
    "        raise Exception(\"Can't parse key: %s\" % str_key)\n",
    "    pitch_str, mode_str = tokens\n",
    "    pc = STR_TO_PITCH_CLASS[pitch_str]\n",
    "    mode = STR_TO_MODE[mode_str]\n",
    "    return pc, mode    "
   ]
  },
  {
   "cell_type": "markdown",
   "metadata": {},
   "source": [
    "## Time"
   ]
  },
  {
   "cell_type": "code",
   "execution_count": 6,
   "metadata": {},
   "outputs": [],
   "source": [
    "def get_timeshift_set(score):\n",
    "    s = set()\n",
    "    for _, event_type, _, time_delta in score:\n",
    "        if event_type == ScoreEventType.TimeShift:\n",
    "            s.add(time_delta)\n",
    "    return s"
   ]
  },
  {
   "cell_type": "raw",
   "metadata": {},
   "source": [
    "# set(round(x % 1, SIG_DIGITS)  for x in all_durations)\n",
    " \n",
    " All times % 1:\n",
    "{0.0,                    0\n",
    " 0.0001,                 \n",
    " 0.0833,                 1/12       \n",
    " 0.0834,                 \n",
    " 0.1666,                 1/6   2/12\n",
    " 0.1667,\n",
    " 0.25,                   1/4   3/12\n",
    " 0.3333,                 1/3   4/12\n",
    " 0.3334,\n",
    " 0.4166,                 5/12\n",
    " 0.4167,\n",
    " 0.4999,                 1/2   6/12\n",
    " 0.5,\n",
    " 0.5001,\n",
    " 0.5833,                 7/12\n",
    " 0.5834,\n",
    " 0.6666,                 2/3   8/12\n",
    " 0.6667,\n",
    " 0.75,                   3/4   9/12\n",
    " 0.8333,                 5/6   10/12\n",
    " 0.8334,\n",
    " 0.9166,                 11/12\n",
    " 0.9167,\n",
    " 0.9999}                 1"
   ]
  },
  {
   "cell_type": "markdown",
   "metadata": {},
   "source": [
    "Dataset is quantized to 1/12 of a quarter note (48th notes)"
   ]
  },
  {
   "cell_type": "code",
   "execution_count": 7,
   "metadata": {},
   "outputs": [],
   "source": [
    "class Duration():\n",
    "    def __init__(self, beats, subbeats, quantization=QUANTIZATION):\n",
    "        self.beats = beats\n",
    "        self.subbeats = subbeats\n",
    "        self.quantization = quantization\n",
    "    \n",
    "    def total_subbeats(self):\n",
    "        return self.beats * self.quantization + self.subbeats\n",
    "    \n",
    "    def subtract_subbeats(self, subbeats):\n",
    "        \"\"\"Modify the duration by subtracting the given # of subbeats.\"\"\"\n",
    "        # Find the total # of full beats to subtract.\n",
    "        beats_to_subtract = subbeats // QUANTIZATION    # int part\n",
    "        subbeats_to_subtract = subbeats % QUANTIZATION  # fractional part\n",
    "        \n",
    "        self.beats -= beats_to_subtract\n",
    "        self.subbeats -= subbeats_to_subtract         # might be negative now\n",
    "        \n",
    "        # Borrow 1 from beats, just like in by-hand subtraction\n",
    "        if self.subbeats < 0:\n",
    "            self.subbeats += QUANTIZATION\n",
    "            self.beats -= 1\n",
    "        \n",
    "    @staticmethod\n",
    "    def MakeDuration(float_duration, quantization=QUANTIZATION):\n",
    "        beats = int(float_duration)\n",
    "        subbeats = round((float_duration % 1) * quantization)\n",
    "        return Duration(beats, subbeats, quantization)\n",
    "    \n",
    "    def __repr__(self):\n",
    "        return 'Duration(%d,%d,%d)' % (self.beats, self.subbeats, self.quantization)"
   ]
  },
  {
   "cell_type": "markdown",
   "metadata": {},
   "source": [
    "## Score Types"
   ]
  },
  {
   "cell_type": "code",
   "execution_count": 8,
   "metadata": {},
   "outputs": [],
   "source": [
    "class ScoreEventType(Enum):\n",
    "    Undefined = -1\n",
    "    NoteOff = 0\n",
    "    NoteOn = 1\n",
    "    TimeShift = 2\n",
    "    \n",
    "# In neural net, representation will be: [COMMAND, OPT_MIDI, OPT_TIME_DELTA]\n",
    "# That is, 3 separate one-hot-encoding blocks, with N/A value possible for MIDI.\n",
    "# ex:\n",
    "# [NoteOn, MIDI, 0], [NoteOff, MIDI, 0], [TimeShift, N/A, time_delta]\n",
    "\n",
    "# MIDI is an int, 0 for N/A or 1-88 representing piano keys 21 to 108\n",
    "# time_delta will be quantized 1/12 of quarter notes. Duration can be from 0-48 12/th notes.\n",
    "#    Longer durations will be represented with multiple successive time_shift commands.\n",
    "    \n",
    "# time is a float, mostly for output use; not fed into neural net.\n",
    "# time_delta is a quantized Duration object.\n",
    "ScoreEvent = namedtuple('ScoreEvent', ['time', 'type', 'midi', 'time_delta'])"
   ]
  },
  {
   "cell_type": "code",
   "execution_count": 9,
   "metadata": {},
   "outputs": [],
   "source": [
    "def convert_df_to_score(df): # Monophonic\n",
    "    \"\"\"The df is an input csv with time, midi, and duration.\n",
    "    Output is a list of ScoreEvents.\"\"\"\n",
    "    \n",
    "    # Fix durations that are too long and overlap later notes. This is supposed to be\n",
    "    # monophonic data, but it isn't always.\n",
    "    for i, row in df.iterrows():\n",
    "        if i >= len(df) - 1: # skip last row\n",
    "            break\n",
    "        time = row['time']\n",
    "        next_time = df.loc[i+1, 'time']\n",
    "        if time + row['duration'] > next_time:\n",
    "            df.loc[i, 'duration']= next_time - time\n",
    "        \n",
    "    events = []\n",
    "    prev_time = None\n",
    "    for _, row in df.iterrows():\n",
    "        time = round(row['time'], SIG_DIGITS)\n",
    "        midi = int(row['midi'])\n",
    "        duration = round(row['duration'], SIG_DIGITS)\n",
    "        \n",
    "        if prev_time is None:\n",
    "            prev_time = time\n",
    "        \n",
    "        delta_time = round(time - prev_time, SIG_DIGITS)\n",
    "        \n",
    "        # Quantize time to beats and subbeats.\n",
    "        time_quantized = Duration.MakeDuration(time)\n",
    "        duration_quantized = Duration.MakeDuration(duration)\n",
    "        delta_time_quantized = Duration.MakeDuration(delta_time)\n",
    "        \n",
    "        # Create events.\n",
    "        #if delta_time_quantized.total_subbeats() > 0:\n",
    "        # TimeShift.\n",
    "        events.append(ScoreEvent(prev_time, ScoreEventType.TimeShift, None, delta_time_quantized))\n",
    "        \n",
    "        # NoteOn\n",
    "        events.append(ScoreEvent(time, ScoreEventType.NoteOn, midi, None))\n",
    "        \n",
    "        # TimeShift for duration of note\n",
    "        # DOESN'T WORK if duration is too long for next note. \n",
    "        # Preprocessing above fixes durations.\n",
    "        events.append(ScoreEvent(time, ScoreEventType.TimeShift, None, duration_quantized))\n",
    "        time += duration\n",
    "        \n",
    "        # NoteOff\n",
    "        events.append(ScoreEvent(time, ScoreEventType.NoteOff, midi, None))\n",
    "        \n",
    "        prev_time = time\n",
    "    \n",
    "    return events            "
   ]
  },
  {
   "cell_type": "code",
   "execution_count": 10,
   "metadata": {},
   "outputs": [],
   "source": [
    "def score_event_to_nnet_input_list(ev):\n",
    "    # Output is a list of numpy arrays: 3 one-hot encodings, concatenated.\n",
    "    # List will usually be 1-element long, but must be multiple for long durations.\n",
    "    # numpy array has 3 one-hot sections (command, midi, duration)\n",
    "    # All 3 are concatenated together into ndarray: [command...midi...duration]\n",
    "    \n",
    "    _, event_type, midi, time_delta_orig = ev\n",
    "    time_delta = copy.copy(time_delta_orig)\n",
    "    #print(ev)\n",
    "    result = []\n",
    "    \n",
    "    command_vec = to_categorical(event_type.value, num_classes=NUM_COMMAND_CLASSES)\n",
    "    \n",
    "    if not midi:\n",
    "        midi = 0\n",
    "    else:\n",
    "        midi = midi - MIDI_MIN + 1\n",
    "    \n",
    "    midi_vec = to_categorical(midi, num_classes=NUM_MIDI_CLASSES)  # +1 for the 0 case\n",
    "    \n",
    "    if not time_delta:\n",
    "        time_delta = Duration(0, 0)\n",
    "    \n",
    "    # Handle long duration events: repeat them.\n",
    "    while time_delta.total_subbeats() > MAX_EVENT_SUBBEATS:\n",
    "        duration_vec = to_categorical(MAX_EVENT_SUBBEATS, num_classes=NUM_DURATION_CLASSES)\n",
    "        total_vec = np.concatenate((command_vec, midi_vec, duration_vec))\n",
    "        result.append(total_vec)\n",
    "        time_delta.subtract_subbeats(MAX_EVENT_SUBBEATS)\n",
    "        \n",
    "    # Regular duration event.\n",
    "    duration_vec = to_categorical(time_delta.total_subbeats(), num_classes=NUM_DURATION_CLASSES)\n",
    "    result.append(np.concatenate((command_vec, midi_vec, duration_vec)))\n",
    "    \n",
    "    return result"
   ]
  },
  {
   "cell_type": "code",
   "execution_count": 11,
   "metadata": {},
   "outputs": [],
   "source": [
    "def score_to_array(score):\n",
    "    arrays_list = []\n",
    "    for ev in score:\n",
    "        arrays_list.append(np.array(score_event_to_nnet_input_list(ev)))\n",
    "    return np.vstack(arrays_list)"
   ]
  },
  {
   "cell_type": "code",
   "execution_count": 12,
   "metadata": {},
   "outputs": [],
   "source": [
    "def plot_matrix(x):\n",
    "    plt.figure(figsize=(20,10))\n",
    "    plt.imshow(x, origin='lower')\n",
    "    plt.show()\n",
    "\n",
    "def plot_score(score):\n",
    "    plot_matrix(score_to_array(score).T)"
   ]
  },
  {
   "cell_type": "markdown",
   "metadata": {},
   "source": [
    "## MIDI"
   ]
  },
  {
   "cell_type": "code",
   "execution_count": 13,
   "metadata": {},
   "outputs": [],
   "source": [
    "def get_midi_set(score):\n",
    "    s = set()\n",
    "    for _, event_type, midi, _ in score:\n",
    "        if event_type == ScoreEventType.NoteOn:\n",
    "            s.add(midi)\n",
    "    return s"
   ]
  },
  {
   "cell_type": "markdown",
   "metadata": {},
   "source": [
    "Analysis results -- MIDI in use: notes 21 through 108 (regular piano range)"
   ]
  },
  {
   "cell_type": "markdown",
   "metadata": {},
   "source": [
    "## File parsing"
   ]
  },
  {
   "cell_type": "code",
   "execution_count": 14,
   "metadata": {},
   "outputs": [],
   "source": [
    "size = 'large'   # 'small', medium', 'large'\n",
    "DATA_PATH = 'data/PPDD-Jul2018_sym_mono_%s/PPDD-Jul2018_sym_mono_%s' % (size, size)"
   ]
  },
  {
   "cell_type": "code",
   "execution_count": 15,
   "metadata": {},
   "outputs": [],
   "source": [
    "DESCRIPTOR_PATH = os.path.join(DATA_PATH, 'descriptor')       # .json files\n",
    "PRIME_CSV_PATH = os.path.join(DATA_PATH, 'prime_csv')         # .csv\n",
    "CONT_FOIL_CSV_PATH = os.path.join(DATA_PATH, 'cont_foil_csv') # .csv\n",
    "CONT_TRUE_CSV_PATH = os.path.join(DATA_PATH, 'cont_true_csv') # .csv"
   ]
  },
  {
   "cell_type": "code",
   "execution_count": 16,
   "metadata": {},
   "outputs": [],
   "source": [
    "def get_file_list(path, ext):\n",
    "    \"\"\"Returns a list of all files in the given path with the given string ending 'ext'.\"\"\"\n",
    "    return [f for f in os.listdir(path) if \n",
    "            os.path.isfile(os.path.join(path, f)) and f.endswith(ext)]"
   ]
  },
  {
   "cell_type": "code",
   "execution_count": 17,
   "metadata": {},
   "outputs": [],
   "source": [
    "descriptor_files = get_file_list(DESCRIPTOR_PATH, 'json')"
   ]
  },
  {
   "cell_type": "code",
   "execution_count": 18,
   "metadata": {},
   "outputs": [
    {
     "data": {
      "text/plain": [
       "['048d57cf-d197-4d6f-9316-d4bf32bbe038.json',\n",
       " 'ae6c4f8e-88e5-499c-a70e-89b7c56cb34a.json',\n",
       " '78d702fc-f5c4-40a4-93bf-b6a90eb7613d.json',\n",
       " '2157e50a-55c2-45c3-bc66-27c03be96201.json',\n",
       " '1049d5b7-ffb7-403a-be76-b22d73885b9c.json',\n",
       " '052baaac-d87c-43d1-acdd-56674eb02e2d.json',\n",
       " 'd1693589-1867-4fa0-af34-b76c15e62378.json',\n",
       " '0306375c-ef22-400d-bb54-0e1f32fdcde5.json',\n",
       " 'ebafda6c-f8dc-491d-826f-b12c09107ca9.json',\n",
       " '05e8c90c-dea6-4075-a32d-25f507f3fe21.json']"
      ]
     },
     "execution_count": 18,
     "metadata": {},
     "output_type": "execute_result"
    }
   ],
   "source": [
    "descriptor_files[:10]"
   ]
  },
  {
   "cell_type": "markdown",
   "metadata": {},
   "source": [
    "# Read Dataset"
   ]
  },
  {
   "cell_type": "code",
   "execution_count": 19,
   "metadata": {
    "scrolled": false
   },
   "outputs": [],
   "source": [
    "all_scores = []\n",
    "\n",
    "def read_dataset():\n",
    "    # all_durations = set()\n",
    "    #all_midi = set()\n",
    "\n",
    "    for i, json_file in enumerate(descriptor_files):\n",
    "        if i % 1000 == 0:\n",
    "            print(i)\n",
    "        guid = os.path.splitext(json_file)[0]\n",
    "        #print('Processing file %d: %s' % (i, guid))\n",
    "        prime_csv_file = os.path.join(PRIME_CSV_PATH, guid) + '.csv'\n",
    "\n",
    "        df_prime = pd.read_csv(prime_csv_file, header=None, \n",
    "                               names=['time', 'midi', 'mpn', 'duration', 'channel'])\n",
    "        score = convert_df_to_score(df_prime)\n",
    "        all_scores.append(score)\n",
    "\n",
    "        # Used this code to analyze dataset.\n",
    "        # Result: quantization is to the 1/12 of a beat.\n",
    "        #all_durations.update(get_timeshift_set(score))\n",
    "\n",
    "        # Result: MIDI notes from 21-108 in use\n",
    "        #all_midi.update(get_midi_set(score))\n",
    "\n",
    "        with open(os.path.join(DESCRIPTOR_PATH, descriptor_files[i])) as f:\n",
    "            j = json.load(f)\n",
    "            id_lakh = j['idLakh']\n",
    "            bpm = j['bpm']\n",
    "            time_sig_numerator, time_sig_denominator = j.get('timeSignature', [4, 4])\n",
    "            key_estimate = j['keyEstimate']\n",
    "\n",
    "            #print (guid, id_lakh, bpm, time_sig_numerator, time_sig_denominator, key_estimate)\n",
    "    print('Done!')"
   ]
  },
  {
   "cell_type": "code",
   "execution_count": 20,
   "metadata": {},
   "outputs": [],
   "source": [
    "# read_dataset()"
   ]
  },
  {
   "cell_type": "code",
   "execution_count": 21,
   "metadata": {},
   "outputs": [],
   "source": [
    "#import pickle\n",
    "#with open('all_scores.pkl', 'wb') as f:\n",
    "#    pickle.dump(all_scores, f, protocol=pickle.HIGHEST_PROTOCOL)    "
   ]
  },
  {
   "cell_type": "code",
   "execution_count": 22,
   "metadata": {},
   "outputs": [],
   "source": [
    "#with open('all_scores.pkl', 'rb') as f:\n",
    "#    all_scores = pickle.load(f)"
   ]
  },
  {
   "cell_type": "code",
   "execution_count": 23,
   "metadata": {
    "scrolled": false
   },
   "outputs": [],
   "source": [
    "#data = [score_to_array(s) for s in all_scores]"
   ]
  },
  {
   "cell_type": "code",
   "execution_count": 24,
   "metadata": {},
   "outputs": [],
   "source": [
    "#with open('all_scores_array.pkl', 'wb') as f:\n",
    "#    pickle.dump(data, f, protocol=pickle.HIGHEST_PROTOCOL)   "
   ]
  },
  {
   "cell_type": "code",
   "execution_count": 25,
   "metadata": {},
   "outputs": [],
   "source": [
    "#with open('all_scores_array.pkl', 'rb') as f:\n",
    "#    data = pickle.load(f)"
   ]
  },
  {
   "cell_type": "code",
   "execution_count": 26,
   "metadata": {},
   "outputs": [],
   "source": [
    "#joblib.dump(data, 'all_scores_array_joblib.pkl') "
   ]
  },
  {
   "cell_type": "code",
   "execution_count": 27,
   "metadata": {},
   "outputs": [],
   "source": [
    "data = joblib.load('all_scores_array_joblib.pkl') "
   ]
  },
  {
   "cell_type": "code",
   "execution_count": 28,
   "metadata": {},
   "outputs": [
    {
     "data": {
      "text/plain": [
       "10000"
      ]
     },
     "execution_count": 28,
     "metadata": {},
     "output_type": "execute_result"
    }
   ],
   "source": [
    "len(data)"
   ]
  },
  {
   "cell_type": "code",
   "execution_count": 29,
   "metadata": {},
   "outputs": [
    {
     "data": {
      "image/png": "[encoded data removed]",
      "text/plain": [
       "<Figure size 1440x720 with 1 Axes>"
      ]
     },
     "metadata": {
      "image/png": {
       "height": 576,
       "width": 439
      }
     },
     "output_type": "display_data"
    }
   ],
   "source": [
    "plot_matrix(data[2881].T)"
   ]
  },
  {
   "cell_type": "code",
   "execution_count": 30,
   "metadata": {},
   "outputs": [
    {
     "data": {
      "text/plain": [
       "(436, 141)"
      ]
     },
     "execution_count": 30,
     "metadata": {},
     "output_type": "execute_result"
    }
   ],
   "source": [
    "data[2].shape"
   ]
  },
  {
   "cell_type": "markdown",
   "metadata": {},
   "source": [
    "## Training Examples"
   ]
  },
  {
   "cell_type": "code",
   "execution_count": 31,
   "metadata": {},
   "outputs": [],
   "source": [
    "def get_example(matrix, start_row, input_timesteps=INPUT_TIMESTEPS, output_timesteps=OUTPUT_TIMESTEPS):\n",
    "    \"\"\"Returns a pair of input, output ndarrays. Input starts at start_row and has the given input length.\n",
    "    Output starts at next timestep and has the given output length.\"\"\"\n",
    "    # Make sure there are enough time steps remaining.\n",
    "    if len(matrix) < start_row + input_timesteps + output_timesteps:\n",
    "        raise Exception('Not enough rows to get example.')\n",
    "    input_ex = matrix[start_row : start_row + input_timesteps]\n",
    "    output_ex = matrix[start_row + input_timesteps : start_row+input_timesteps+output_timesteps]\n",
    "    return (input_ex, output_ex)"
   ]
  },
  {
   "cell_type": "code",
   "execution_count": 32,
   "metadata": {},
   "outputs": [],
   "source": [
    "def get_examples_for_song(matrix, input_timesteps=INPUT_TIMESTEPS, output_timesteps=OUTPUT_TIMESTEPS, \n",
    "                          sliding_window_hop_length=SLIDING_WINDOW_TIMESTEPS):\n",
    "    \"\"\"Returns tuple of (array of input examples, array of output examples), generated via a sliding window on\n",
    "    the input matrix. For example: output might be two ndarrays of shapes (277, 120, 141), (277, 40, 141).\n",
    "    Dimensions are (examples, timesteps, features)\n",
    "    \"\"\"\n",
    "    input_examples = []\n",
    "    output_examples = []\n",
    "    for i in range(len(matrix) - input_timesteps - output_timesteps + 1):\n",
    "        x, y = get_example(matrix, i, input_timesteps, output_timesteps)\n",
    "        input_examples.append(x)\n",
    "        output_examples.append(y)\n",
    "    if not input_examples:\n",
    "        return None\n",
    "    return np.stack(input_examples), np.stack(output_examples)"
   ]
  },
  {
   "cell_type": "code",
   "execution_count": 50,
   "metadata": {},
   "outputs": [],
   "source": [
    "def output_examples_for_songs(output_filename_base, matrix_list, input_timesteps=INPUT_TIMESTEPS, output_timesteps=OUTPUT_TIMESTEPS, \n",
    "                           sliding_window_hop_length=SLIDING_WINDOW_TIMESTEPS):\n",
    "    \"\"\"Input is a list of matrices, each representing a song. Output is a tuple of 2 lists: input and output\n",
    "    example matrices, one matrix per song.\"\"\"\n",
    "    input_examples = []\n",
    "    output_examples = []\n",
    "    file_index = 0\n",
    "    for i, song in enumerate( matrix_list):\n",
    "        result = get_examples_for_song(song, input_timesteps, output_timesteps, sliding_window_hop_length)\n",
    "        if not result:\n",
    "            continue\n",
    "        x, y = result\n",
    "        input_examples.append(x)\n",
    "        output_examples.append(y)\n",
    "        \n",
    "        if i%100 == 0:\n",
    "            print(i)\n",
    "        if i%10 == 0:\n",
    "            filename = '%s_%05d.pkl' % (output_filename_base, file_index)\n",
    "            joblib.dump((input_examples, output_examples), filename)\n",
    "            file_index += 1\n",
    "            input_examples = []\n",
    "            output_examples = []\n",
    "    #return input_examples, output_examples"
   ]
  },
  {
   "cell_type": "markdown",
   "metadata": {},
   "source": [
    "## Train/test split"
   ]
  },
  {
   "cell_type": "code",
   "execution_count": 48,
   "metadata": {},
   "outputs": [],
   "source": [
    "train_data, test_data = train_test_split(data, test_size=0.2, random_state=42)"
   ]
  },
  {
   "cell_type": "code",
   "execution_count": 35,
   "metadata": {},
   "outputs": [],
   "source": [
    "#x_test, y_test = get_examples_for_songs(test_data)"
   ]
  },
  {
   "cell_type": "code",
   "execution_count": 36,
   "metadata": {},
   "outputs": [],
   "source": [
    "#x_train, y_train = get_examples_for_songs(train_data)"
   ]
  },
  {
   "cell_type": "code",
   "execution_count": 46,
   "metadata": {},
   "outputs": [],
   "source": [
    "#output_examples_for_songs('/data/mirex2018/test_pkl/test', test_data)"
   ]
  },
  {
   "cell_type": "code",
   "execution_count": 51,
   "metadata": {},
   "outputs": [
    {
     "name": "stdout",
     "output_type": "stream",
     "text": [
      "0\n",
      "100\n",
      "200\n",
      "300\n",
      "400\n",
      "500\n",
      "600\n",
      "700\n",
      "800\n",
      "900\n",
      "1000\n",
      "1100\n",
      "1200\n",
      "1300\n",
      "1400\n",
      "1500\n",
      "1600\n",
      "1700\n",
      "1800\n",
      "1900\n",
      "2000\n",
      "2100\n",
      "2200\n",
      "2300\n",
      "2400\n",
      "2500\n",
      "2600\n",
      "2700\n",
      "2800\n",
      "2900\n",
      "3000\n",
      "3200\n",
      "3300\n",
      "3400\n",
      "3500\n",
      "3600\n",
      "3700\n",
      "3800\n",
      "3900\n",
      "4000\n",
      "4100\n",
      "4200\n",
      "4300\n",
      "4400\n",
      "4500\n",
      "4600\n",
      "4700\n",
      "4800\n",
      "4900\n",
      "5000\n",
      "5100\n",
      "5200\n",
      "5300\n",
      "5400\n",
      "5500\n",
      "5600\n",
      "5700\n",
      "5800\n",
      "5900\n",
      "6000\n",
      "6100\n",
      "6200\n",
      "6300\n",
      "6400\n",
      "6500\n",
      "6600\n",
      "6700\n",
      "6800\n",
      "6900\n",
      "7100\n",
      "7200\n",
      "7300\n",
      "7400\n",
      "7500\n",
      "7600\n",
      "7700\n",
      "7800\n",
      "7900\n"
     ]
    }
   ],
   "source": [
    "#output_examples_for_songs('/data/mirex2018/train_pkl/train', train_data, sliding_window_hop_length=4*10)"
   ]
  },
  {
   "cell_type": "code",
   "execution_count": 39,
   "metadata": {},
   "outputs": [
    {
     "data": {
      "text/plain": [
       "'00012'"
      ]
     },
     "execution_count": 39,
     "metadata": {},
     "output_type": "execute_result"
    }
   ],
   "source": [
    "'%05d' % 12"
   ]
  },
  {
   "cell_type": "code",
   "execution_count": 52,
   "metadata": {},
   "outputs": [],
   "source": [
    "del train_data"
   ]
  },
  {
   "cell_type": "code",
   "execution_count": 53,
   "metadata": {},
   "outputs": [
    {
     "ename": "NameError",
     "evalue": "name 'test_data' is not defined",
     "output_type": "error",
     "traceback": [
      "\u001b[0;31m---------------------------------------------------------------------------\u001b[0m",
      "\u001b[0;31mNameError\u001b[0m                                 Traceback (most recent call last)",
      "\u001b[0;32m<ipython-input-53-81925eeaf512>\u001b[0m in \u001b[0;36m<module>\u001b[0;34m()\u001b[0m\n\u001b[0;32m----> 1\u001b[0;31m \u001b[0;32mdel\u001b[0m \u001b[0mtest_data\u001b[0m\u001b[0;34m\u001b[0m\u001b[0m\n\u001b[0m",
      "\u001b[0;31mNameError\u001b[0m: name 'test_data' is not defined"
     ]
    }
   ],
   "source": [
    "del test_data"
   ]
  },
  {
   "cell_type": "code",
   "execution_count": null,
   "metadata": {},
   "outputs": [],
   "source": []
  }
 ],
 "metadata": {
  "kernelspec": {
   "display_name": "Python 3",
   "language": "python",
   "name": "python3"
  },
  "language_info": {
   "codemirror_mode": {
    "name": "ipython",
    "version": 3
   },
   "file_extension": ".py",
   "mimetype": "text/x-python",
   "name": "python",
   "nbconvert_exporter": "python",
   "pygments_lexer": "ipython3",
   "version": "3.6.6"
  }
 },
 "nbformat": 4,
 "nbformat_minor": 2
}
